{
 "cells": [
  {
   "cell_type": "code",
   "execution_count": 1,
   "metadata": {},
   "outputs": [],
   "source": [
    "import omop_alchemy as oa\n",
    "from omop_alchemy.db import Base, engine\n",
    "from omop_alchemy.helpers.create_db import create_db \n",
    "from omop_alchemy.helpers.populate_db import populate_demo_db, to_load_vocabulary, to_load_clinical, to_load_health_system"
   ]
  },
  {
   "cell_type": "code",
   "execution_count": 2,
   "metadata": {},
   "outputs": [
    {
     "name": "stdout",
     "output_type": "stream",
     "text": [
      "2024-02-07 09:53:39,347 INFO sqlalchemy.engine.Engine BEGIN (implicit)\n",
      "2024-02-07 09:53:39,348 INFO sqlalchemy.engine.Engine PRAGMA main.table_info(\"modifiable_table\")\n",
      "2024-02-07 09:53:39,349 INFO sqlalchemy.engine.Engine [raw sql] ()\n",
      "2024-02-07 09:53:39,351 INFO sqlalchemy.engine.Engine PRAGMA main.table_info(\"condition_occurrence\")\n",
      "2024-02-07 09:53:39,351 INFO sqlalchemy.engine.Engine [raw sql] ()\n",
      "2024-02-07 09:53:39,352 INFO sqlalchemy.engine.Engine PRAGMA main.table_info(\"device_exposure\")\n",
      "2024-02-07 09:53:39,353 INFO sqlalchemy.engine.Engine [raw sql] ()\n",
      "2024-02-07 09:53:39,354 INFO sqlalchemy.engine.Engine PRAGMA main.table_info(\"drug_exposure\")\n",
      "2024-02-07 09:53:39,354 INFO sqlalchemy.engine.Engine [raw sql] ()\n",
      "2024-02-07 09:53:39,356 INFO sqlalchemy.engine.Engine PRAGMA main.table_info(\"fact_relationship\")\n",
      "2024-02-07 09:53:39,357 INFO sqlalchemy.engine.Engine [raw sql] ()\n",
      "2024-02-07 09:53:39,357 INFO sqlalchemy.engine.Engine PRAGMA main.table_info(\"measurement\")\n",
      "2024-02-07 09:53:39,358 INFO sqlalchemy.engine.Engine [raw sql] ()\n",
      "2024-02-07 09:53:39,359 INFO sqlalchemy.engine.Engine PRAGMA main.table_info(\"note_nlp\")\n",
      "2024-02-07 09:53:39,359 INFO sqlalchemy.engine.Engine [raw sql] ()\n",
      "2024-02-07 09:53:39,360 INFO sqlalchemy.engine.Engine PRAGMA main.table_info(\"note\")\n",
      "2024-02-07 09:53:39,361 INFO sqlalchemy.engine.Engine [raw sql] ()\n",
      "2024-02-07 09:53:39,362 INFO sqlalchemy.engine.Engine PRAGMA main.table_info(\"observation_period\")\n",
      "2024-02-07 09:53:39,363 INFO sqlalchemy.engine.Engine [raw sql] ()\n",
      "2024-02-07 09:53:39,364 INFO sqlalchemy.engine.Engine PRAGMA main.table_info(\"observation\")\n",
      "2024-02-07 09:53:39,365 INFO sqlalchemy.engine.Engine [raw sql] ()\n",
      "2024-02-07 09:53:39,366 INFO sqlalchemy.engine.Engine PRAGMA main.table_info(\"person\")\n",
      "2024-02-07 09:53:39,367 INFO sqlalchemy.engine.Engine [raw sql] ()\n",
      "2024-02-07 09:53:39,368 INFO sqlalchemy.engine.Engine PRAGMA main.table_info(\"procedure_occurrence\")\n",
      "2024-02-07 09:53:39,368 INFO sqlalchemy.engine.Engine [raw sql] ()\n",
      "2024-02-07 09:53:39,369 INFO sqlalchemy.engine.Engine PRAGMA main.table_info(\"specimen\")\n",
      "2024-02-07 09:53:39,370 INFO sqlalchemy.engine.Engine [raw sql] ()\n",
      "2024-02-07 09:53:39,371 INFO sqlalchemy.engine.Engine PRAGMA main.table_info(\"survey_conduct\")\n",
      "2024-02-07 09:53:39,372 INFO sqlalchemy.engine.Engine [raw sql] ()\n",
      "2024-02-07 09:53:39,373 INFO sqlalchemy.engine.Engine PRAGMA main.table_info(\"visit_occurrence\")\n",
      "2024-02-07 09:53:39,374 INFO sqlalchemy.engine.Engine [raw sql] ()\n",
      "2024-02-07 09:53:39,376 INFO sqlalchemy.engine.Engine PRAGMA main.table_info(\"visit_detail\")\n",
      "2024-02-07 09:53:39,376 INFO sqlalchemy.engine.Engine [raw sql] ()\n",
      "2024-02-07 09:53:39,378 INFO sqlalchemy.engine.Engine PRAGMA main.table_info(\"cohort_definition\")\n",
      "2024-02-07 09:53:39,379 INFO sqlalchemy.engine.Engine [raw sql] ()\n",
      "2024-02-07 09:53:39,380 INFO sqlalchemy.engine.Engine PRAGMA main.table_info(\"cohort\")\n",
      "2024-02-07 09:53:39,381 INFO sqlalchemy.engine.Engine [raw sql] ()\n",
      "2024-02-07 09:53:39,382 INFO sqlalchemy.engine.Engine PRAGMA main.table_info(\"concept_ancestor\")\n",
      "2024-02-07 09:53:39,382 INFO sqlalchemy.engine.Engine [raw sql] ()\n",
      "2024-02-07 09:53:39,383 INFO sqlalchemy.engine.Engine PRAGMA main.table_info(\"concept_class\")\n",
      "2024-02-07 09:53:39,383 INFO sqlalchemy.engine.Engine [raw sql] ()\n",
      "2024-02-07 09:53:39,384 INFO sqlalchemy.engine.Engine PRAGMA main.table_info(\"concept_relationship\")\n",
      "2024-02-07 09:53:39,385 INFO sqlalchemy.engine.Engine [raw sql] ()\n",
      "2024-02-07 09:53:39,386 INFO sqlalchemy.engine.Engine PRAGMA main.table_info(\"concept_synonym\")\n",
      "2024-02-07 09:53:39,387 INFO sqlalchemy.engine.Engine [raw sql] ()\n",
      "2024-02-07 09:53:39,388 INFO sqlalchemy.engine.Engine PRAGMA main.table_info(\"concept\")\n",
      "2024-02-07 09:53:39,388 INFO sqlalchemy.engine.Engine [raw sql] ()\n",
      "2024-02-07 09:53:39,389 INFO sqlalchemy.engine.Engine PRAGMA main.table_info(\"domain\")\n",
      "2024-02-07 09:53:39,390 INFO sqlalchemy.engine.Engine [raw sql] ()\n",
      "2024-02-07 09:53:39,391 INFO sqlalchemy.engine.Engine PRAGMA main.table_info(\"drug_strength\")\n",
      "2024-02-07 09:53:39,391 INFO sqlalchemy.engine.Engine [raw sql] ()\n",
      "2024-02-07 09:53:39,392 INFO sqlalchemy.engine.Engine PRAGMA main.table_info(\"relationship\")\n",
      "2024-02-07 09:53:39,393 INFO sqlalchemy.engine.Engine [raw sql] ()\n",
      "2024-02-07 09:53:39,399 INFO sqlalchemy.engine.Engine PRAGMA main.table_info(\"source_to_concept_map\")\n",
      "2024-02-07 09:53:39,458 INFO sqlalchemy.engine.Engine [raw sql] ()\n",
      "2024-02-07 09:53:39,473 INFO sqlalchemy.engine.Engine PRAGMA main.table_info(\"vocabulary\")\n",
      "2024-02-07 09:53:39,486 INFO sqlalchemy.engine.Engine [raw sql] ()\n",
      "2024-02-07 09:53:39,487 INFO sqlalchemy.engine.Engine PRAGMA main.table_info(\"episode\")\n",
      "2024-02-07 09:53:39,488 INFO sqlalchemy.engine.Engine [raw sql] ()\n",
      "2024-02-07 09:53:39,490 INFO sqlalchemy.engine.Engine PRAGMA main.table_info(\"care_site\")\n",
      "2024-02-07 09:53:39,493 INFO sqlalchemy.engine.Engine [raw sql] ()\n",
      "2024-02-07 09:53:39,494 INFO sqlalchemy.engine.Engine PRAGMA main.table_info(\"location_history\")\n",
      "2024-02-07 09:53:39,495 INFO sqlalchemy.engine.Engine [raw sql] ()\n",
      "2024-02-07 09:53:39,496 INFO sqlalchemy.engine.Engine PRAGMA main.table_info(\"location\")\n",
      "2024-02-07 09:53:39,497 INFO sqlalchemy.engine.Engine [raw sql] ()\n",
      "2024-02-07 09:53:39,499 INFO sqlalchemy.engine.Engine PRAGMA main.table_info(\"provider\")\n",
      "2024-02-07 09:53:39,500 INFO sqlalchemy.engine.Engine [raw sql] ()\n",
      "2024-02-07 09:53:39,502 INFO sqlalchemy.engine.Engine COMMIT\n"
     ]
    }
   ],
   "source": [
    "# this script will create a new sqlite db file with the tables to reflect the specified objects in \n",
    "# clinical and reference directories. needs to be made more friendly for re-create / update etc, but \n",
    "# will do for now :)\n",
    "\n",
    "create_db(Base, engine)"
   ]
  },
  {
   "cell_type": "code",
   "execution_count": 3,
   "metadata": {},
   "outputs": [
    {
     "name": "stdout",
     "output_type": "stream",
     "text": [
      "/Users/georginakennedy/cloudstor/CBDRH/ACDN/OMOP_Alchemy/omop_alchemy/resources/demo_data\n",
      "complete load for: CARE_SITE.csv\n",
      "complete load for: LOCATION.csv\n",
      "complete load for: PROVIDER.csv\n",
      "2024-02-07 09:53:40,557 INFO sqlalchemy.engine.Engine BEGIN (implicit)\n",
      "2024-02-07 09:53:40,561 INFO sqlalchemy.engine.Engine INSERT INTO location (location_id, address_1, address_2, city, state, zip_code, county, country, location_source_value, latitude, longitude) VALUES (?, ?, ?, ?, ?, ?, ?, ?, ?, ?, ?)\n",
      "2024-02-07 09:53:40,563 INFO sqlalchemy.engine.Engine [generated in 0.00262s] [(1, 'Liverpool Hospital', 'Burnside Dr', 'Sydney', 'NSW', '2170', 'Liverpool', 'Australia', '', 0.0, 0.0), (2, 'Bankstown Lidcombe Hospital', 'Eldridge Rd', 'Sydney', 'NSW', '2200', 'Bankstown', 'Australia', '', 0.0, 0.0), (3, 'Campbelltown Hospital', 'Off Parkside Cres', 'Sydney', 'NSW', '2560', 'Campbelltown', 'Australia', '', 0.0, 0.0)]\n",
      "2024-02-07 09:53:40,569 INFO sqlalchemy.engine.Engine INSERT INTO care_site (care_site_id, care_site_name, care_site_source_value, place_of_service_source_value, location_id, place_of_service_concept_id) VALUES (?, ?, ?, ?, ?, ?)\n",
      "2024-02-07 09:53:40,571 INFO sqlalchemy.engine.Engine [generated in 0.00149s] [(1, 'Liverpool Cancer Services', 'Cancer Services', '', 1, 9202), (2, 'Liverpool Inpatient', 'Inpatient Services', '', 1, 9201), (3, 'Liverpool Emergency', 'Emergency Department', '', 1, 9203), (4, 'Liverpool Telehealth', 'Telehealth Appointment', '', 1, 5083), (5, 'Bankstown Cancer Services', 'Cancer Services', '', 2, 9202), (6, 'Bankstown Inpatient', 'Inpatient Services', '', 2, 9201), (7, 'Bankstown Emergency', 'Emergency Department', '', 2, 9203), (8, 'Bankstown Telehealth', 'Telehealth Appointment', '', 2, 5083)  ... displaying 10 of 12 total bound parameter sets ...  (11, 'Macarthur Emergency', 'Emergency Department', '', 3, 9203), (12, 'Macarthur Telehealth', 'Telehealth Appointment', '', 3, 5083)]\n",
      "2024-02-07 09:53:40,578 INFO sqlalchemy.engine.Engine INSERT INTO provider (provider_id, provider_name, npi, dea, provider_source_value, specialty_source_value, gender_source_value, year_of_birth, care_site_id, gender_concept_id, specialty_source_concept_id, gender_source_concept_id, specialty_concept_id) VALUES (?, ?, ?, ?, ?, ?, ?, ?, ?, ?, ?, ?, ?)\n",
      "2024-02-07 09:53:40,581 INFO sqlalchemy.engine.Engine [generated in 0.00379s] [(1, 'a', '', '', '', 'Medical Oncologist', '', 0, 1, 0, 0, 0, 38004507), (2, 'b', '', '', '', 'Radiation Oncologist', '', 0, 1, 0, 0, 0, 38004509), (3, 'c', '', '', '', 'Oncology Dietitian', '', 0, 1, 0, 0, 0, 38003690), (4, 'd', '', '', '', 'Care Coordinator', '', 0, 1, 0, 0, 0, 38004422), (5, 'e', '', '', '', 'Medical Physicist', '', 0, 1, 0, 0, 0, 38004181), (6, 'f', '', '', '', 'Palliative Care Physician', '', 0, 2, 0, 0, 0, 38004462), (7, 'g', '', '', '', 'Social Worker', '', 0, 2, 0, 0, 0, 38004499), (8, 'h', '', '', '', 'Registered Nurse', '', 0, 2, 0, 0, 0, 38004422)  ... displaying 10 of 16 total bound parameter sets ...  (15, 'o', '', '', '', 'Social Worker', '', 0, 6, 0, 0, 0, 38004499), (16, 'p', '', '', '', 'Registered Nurse', '', 0, 6, 0, 0, 0, 38004422)]\n",
      "2024-02-07 09:53:40,585 INFO sqlalchemy.engine.Engine COMMIT\n"
     ]
    },
    {
     "name": "stderr",
     "output_type": "stream",
     "text": [
      "/Users/georginakennedy/cloudstor/CBDRH/ACDN/OMOP_Alchemy/omop_alchemy/helpers/populate_db.py:91: SAWarning: relationship 'Measurement.modified_object' will copy column modifiable_table.modifier_id to column measurement.modifier_of_event_id, which conflicts with relationship(s): 'Measurement.modifying_object' (copies modifiable_table.modifier_id to measurement.modifier_of_event_id), 'Modifiable_Table.modifiers' (copies modifiable_table.modifier_id to measurement.modifier_of_event_id). If this is not the intention, consider if these relationships should be linked with back_populates, or if viewonly=True should be applied to one or more if they are read-only. For the less common case that foreign key constraints are partially overlapping, the orm.foreign() annotation can be used to isolate the columns that should be written towards.   To silence this warning, add the parameter 'overlaps=\"modifiers,modifying_object\"' to the 'Measurement.modified_object' relationship. (Background on this warning at: https://sqlalche.me/e/20/qzyx) (This warning originated from the `configure_mappers()` process, which was invoked automatically in response to a user-initiated operation.)\n",
      "  o = interface(**record)\n"
     ]
    }
   ],
   "source": [
    "# make sure to download a small athena zip file (suggested no more than 2-4 vocabs for demo purposes)\n",
    "# and unzip to omop_alchemy/resources/ohdsi_vocabs before running this script. \n",
    "\n",
    "populate_demo_db(to_load_health_system)"
   ]
  },
  {
   "cell_type": "code",
   "execution_count": 4,
   "metadata": {},
   "outputs": [
    {
     "name": "stdout",
     "output_type": "stream",
     "text": [
      "/Users/georginakennedy/cloudstor/CBDRH/ACDN/OMOP_Alchemy/omop_alchemy/resources/demo_data\n",
      "complete load for: PERSON.csv\n",
      "complete load for: CONDITION_OCCURRENCE.csv\n",
      "complete load for: MEASUREMENT.csv\n",
      "2024-02-07 09:53:45,640 INFO sqlalchemy.engine.Engine BEGIN (implicit)\n",
      "2024-02-07 09:53:45,642 INFO sqlalchemy.engine.Engine INSERT INTO person (person_id, birth_datetime, death_datetime, person_source_value, gender_source_value, race_source_value, ethnicity_source_value, year_of_birth, month_of_birth, day_of_birth, location_id, provider_id, care_site_id, gender_source_concept_id, ethnicity_source_concept_id, race_source_concept_id, gender_concept_id, ethnicity_concept_id, race_concept_id) VALUES (?, ?, ?, ?, ?, ?, ?, ?, ?, ?, ?, ?, ?, ?, ?, ?, ?, ?, ?)\n",
      "2024-02-07 09:53:45,643 INFO sqlalchemy.engine.Engine [generated in 0.00088s] [(1, None, None, '1234', 'M', '', '', 1950, 1, 10, 1, 1, 1, 0, 0, 0, 8507, 0, 0), (2, None, None, '2354', 'F', '', '', 1960, 2, 11, 1, 2, 1, 0, 0, 0, 8532, 0, 0), (3, '1970-03-12 00:00:00.000000', None, '2255', 'M', '', '', 1970, 3, 12, 3, 9, 9, 0, 0, 0, 8507, 0, 0), (4, None, '2018-08-02 00:00:00.000000', '8877', 'F', '', '', 1980, 4, 13, 3, 10, 9, 0, 0, 0, 8532, 0, 0)]\n",
      "2024-02-07 09:53:45,645 INFO sqlalchemy.engine.Engine INSERT INTO modifiable_table (modifier_of_field_concept_id) VALUES (?) RETURNING modifier_id\n",
      "2024-02-07 09:53:45,646 INFO sqlalchemy.engine.Engine [generated in 0.00013s (insertmanyvalues) 1/5 (ordered; batch not supported)] (None,)\n",
      "2024-02-07 09:53:45,646 INFO sqlalchemy.engine.Engine INSERT INTO modifiable_table (modifier_of_field_concept_id) VALUES (?) RETURNING modifier_id\n",
      "2024-02-07 09:53:45,647 INFO sqlalchemy.engine.Engine [insertmanyvalues 2/5 (ordered; batch not supported)] (None,)\n",
      "2024-02-07 09:53:45,647 INFO sqlalchemy.engine.Engine INSERT INTO modifiable_table (modifier_of_field_concept_id) VALUES (?) RETURNING modifier_id\n",
      "2024-02-07 09:53:45,648 INFO sqlalchemy.engine.Engine [insertmanyvalues 3/5 (ordered; batch not supported)] (None,)\n",
      "2024-02-07 09:53:45,648 INFO sqlalchemy.engine.Engine INSERT INTO modifiable_table (modifier_of_field_concept_id) VALUES (?) RETURNING modifier_id\n",
      "2024-02-07 09:53:45,649 INFO sqlalchemy.engine.Engine [insertmanyvalues 4/5 (ordered; batch not supported)] (None,)\n",
      "2024-02-07 09:53:45,649 INFO sqlalchemy.engine.Engine INSERT INTO modifiable_table (modifier_of_field_concept_id) VALUES (?) RETURNING modifier_id\n",
      "2024-02-07 09:53:45,650 INFO sqlalchemy.engine.Engine [insertmanyvalues 5/5 (ordered; batch not supported)] (None,)\n",
      "2024-02-07 09:53:45,651 INFO sqlalchemy.engine.Engine INSERT INTO condition_occurrence (condition_occurrence_id, condition_start_date, condition_start_datetime, condition_end_date, condition_end_datetime, stop_reason, condition_source_value, condition_status_source_value, person_id, provider_id, visit_occurrence_id, visit_detail_id, condition_concept_id, condition_type_concept_id, condition_status_concept_id, condition_source_concept_id) VALUES (?, ?, ?, ?, ?, ?, ?, ?, ?, ?, ?, ?, ?, ?, ?, ?)\n",
      "2024-02-07 09:53:45,652 INFO sqlalchemy.engine.Engine [generated in 0.00062s] [(1, '2015-03-04', None, None, None, '', '', '', 1, 0, 0, 0, 44499685, 32840, 32902, 0), (2, '2012-09-08', None, None, None, '', '', '', 2, 0, 0, 0, 44505308, 32840, 32902, 0), (3, '2014-10-11', None, None, None, '', '', '', 3, 0, 0, 0, 36529645, 32840, 32902, 0), (4, '2019-08-27', None, None, None, '', '', '', 4, 0, 0, 0, 36565751, 32840, 32902, 0), (5, '2020-09-01', None, None, None, '', '', '', 4, 0, 0, 0, 44503828, 32840, 32908, 0)]\n",
      "2024-02-07 09:53:45,654 INFO sqlalchemy.engine.Engine INSERT INTO measurement (measurement_id, measurement_date, measurement_datetime, measurement_time, measurement_source_value, unit_source_value, value_source_value, value_as_number, range_low, range_high, modifier_of_event_id, person_id, provider_id, visit_occurrence_id, visit_detail_id, value_as_concept_id, unit_concept_id, measurement_concept_id, measurement_source_concept_id, measurement_type_concept_id, operator_concept_id, modifier_of_field_concept_id) VALUES (?, ?, ?, ?, ?, ?, ?, ?, ?, ?, ?, ?, ?, ?, ?, ?, ?, ?, ?, ?, ?, ?)\n",
      "2024-02-07 09:53:45,655 INFO sqlalchemy.engine.Engine [generated in 0.00074s] [(1, '2015-03-10', None, None, '', '', '', 0.0, 0.0, 0.0, 1, 1, 0, 0, 0, 35919156, 0, 35918328, 0, 44818703, 0, 1147127), (2, '2015-03-10', None, None, '', '', '', 0.0, 0.0, 0.0, 1, 1, 0, 0, 0, 35919673, 0, 35918383, 0, 44818703, 0, 1147127), (3, '2015-03-10', None, None, '', '', '', 0.0, 0.0, 0.0, 1, 1, 0, 0, 0, 0, 8588, 4265162, 0, 44818703, 0, 1147127)]\n",
      "2024-02-07 09:53:45,656 INFO sqlalchemy.engine.Engine COMMIT\n"
     ]
    }
   ],
   "source": [
    "\n",
    "populate_demo_db(to_load_clinical)"
   ]
  },
  {
   "cell_type": "code",
   "execution_count": null,
   "metadata": {},
   "outputs": [],
   "source": [
    "populate_demo_db(to_load_vocabulary)"
   ]
  },
  {
   "cell_type": "code",
   "execution_count": 5,
   "metadata": {},
   "outputs": [
    {
     "name": "stdout",
     "output_type": "stream",
     "text": [
      "2024-02-07 09:53:49,522 INFO sqlalchemy.engine.Engine BEGIN (implicit)\n",
      "2024-02-07 09:53:49,526 INFO sqlalchemy.engine.Engine SELECT person.person_id AS person_person_id, person.birth_datetime AS person_birth_datetime, person.death_datetime AS person_death_datetime, person.person_source_value AS person_person_source_value, person.gender_source_value AS person_gender_source_value, person.race_source_value AS person_race_source_value, person.ethnicity_source_value AS person_ethnicity_source_value, person.year_of_birth AS person_year_of_birth, person.month_of_birth AS person_month_of_birth, person.day_of_birth AS person_day_of_birth, person.location_id AS person_location_id, person.provider_id AS person_provider_id, person.care_site_id AS person_care_site_id, person.gender_source_concept_id AS person_gender_source_concept_id, person.ethnicity_source_concept_id AS person_ethnicity_source_concept_id, person.race_source_concept_id AS person_race_source_concept_id, person.gender_concept_id AS person_gender_concept_id, person.ethnicity_concept_id AS person_ethnicity_concept_id, person.race_concept_id AS person_race_concept_id \n",
      "FROM person\n",
      "2024-02-07 09:53:49,527 INFO sqlalchemy.engine.Engine [generated in 0.00127s] ()\n",
      "2024-02-07 09:53:49,534 INFO sqlalchemy.engine.Engine SELECT condition_occurrence.person_id AS condition_occurrence_person_id, modifiable_table.modifier_id AS modifiable_table_modifier_id, modifiable_table.modifier_of_field_concept_id AS modifiable_table_modifier_of_field_concept_id, CASE WHEN (modifiable_table.modifier_of_field_concept_id = ?) THEN ? WHEN (modifiable_table.modifier_of_field_concept_id = ?) THEN ? ELSE ? END AS _sa_polymorphic_on, condition_occurrence.condition_occurrence_id AS condition_occurrence_condition_occurrence_id, condition_occurrence.condition_start_date AS condition_occurrence_condition_start_date, condition_occurrence.condition_start_datetime AS condition_occurrence_condition_start_datetime, condition_occurrence.condition_end_date AS condition_occurrence_condition_end_date, condition_occurrence.condition_end_datetime AS condition_occurrence_condition_end_datetime, condition_occurrence.stop_reason AS condition_occurrence_stop_reason, condition_occurrence.condition_source_value AS condition_occurrence_condition_source_value, condition_occurrence.condition_status_source_value AS condition_occurrence_condition_status_source_value, condition_occurrence.provider_id AS condition_occurrence_provider_id, condition_occurrence.visit_occurrence_id AS condition_occurrence_visit_occurrence_id, condition_occurrence.visit_detail_id AS condition_occurrence_visit_detail_id, condition_occurrence.condition_concept_id AS condition_occurrence_condition_concept_id, condition_occurrence.condition_type_concept_id AS condition_occurrence_condition_type_concept_id, condition_occurrence.condition_status_concept_id AS condition_occurrence_condition_status_concept_id, condition_occurrence.condition_source_concept_id AS condition_occurrence_condition_source_concept_id, concept_1.concept_id AS concept_1_concept_id, concept_1.concept_name AS concept_1_concept_name, concept_1.concept_code AS concept_1_concept_code, concept_1.domain_id AS concept_1_domain_id, concept_1.vocabulary_id AS concept_1_vocabulary_id, concept_1.concept_class_id AS concept_1_concept_class_id, concept_1.standard_concept AS concept_1_standard_concept, concept_1.valid_start_date AS concept_1_valid_start_date, concept_1.valid_end_date AS concept_1_valid_end_date, concept_1.invalid_reason AS concept_1_invalid_reason \n",
      "FROM modifiable_table JOIN condition_occurrence ON condition_occurrence.condition_occurrence_id = modifiable_table.modifier_id LEFT OUTER JOIN concept AS concept_1 ON concept_1.concept_id = condition_occurrence.condition_concept_id \n",
      "WHERE condition_occurrence.person_id IN (?, ?, ?, ?)\n",
      "2024-02-07 09:53:49,535 INFO sqlalchemy.engine.Engine [generated in 0.00070s] (1147127, 'condition', 1147082, 'procedure', 'episode', 1, 2, 3, 4)\n",
      "2024-02-07 09:53:49,538 INFO sqlalchemy.engine.Engine SELECT episode.person_id AS episode_person_id, episode.episode_id AS episode_episode_id, episode.episode_start_datetime AS episode_episode_start_datetime, episode.episode_end_datetime AS episode_episode_end_datetime, episode.episode_source_value AS episode_episode_source_value, episode.episode_number AS episode_episode_number, episode.episode_parent_id AS episode_episode_parent_id, episode.episode_concept_id AS episode_episode_concept_id, episode.episode_object_concept_id AS episode_episode_object_concept_id, episode.episode_type_concept_id AS episode_episode_type_concept_id \n",
      "FROM episode \n",
      "WHERE episode.person_id IN (?, ?, ?, ?)\n",
      "2024-02-07 09:53:49,539 INFO sqlalchemy.engine.Engine [generated in 0.00059s] (1, 2, 3, 4)\n",
      "2024-02-07 09:53:49,544 INFO sqlalchemy.engine.Engine SELECT measurement.modifier_of_event_id AS measurement_modifier_of_event_id, measurement.measurement_id AS measurement_measurement_id, measurement.measurement_date AS measurement_measurement_date, measurement.measurement_datetime AS measurement_measurement_datetime, measurement.measurement_time AS measurement_measurement_time, measurement.measurement_source_value AS measurement_measurement_source_value, measurement.unit_source_value AS measurement_unit_source_value, measurement.value_source_value AS measurement_value_source_value, measurement.value_as_number AS measurement_value_as_number, measurement.range_low AS measurement_range_low, measurement.range_high AS measurement_range_high, measurement.person_id AS measurement_person_id, measurement.provider_id AS measurement_provider_id, measurement.visit_occurrence_id AS measurement_visit_occurrence_id, measurement.visit_detail_id AS measurement_visit_detail_id, measurement.value_as_concept_id AS measurement_value_as_concept_id, measurement.unit_concept_id AS measurement_unit_concept_id, measurement.measurement_concept_id AS measurement_measurement_concept_id, measurement.measurement_source_concept_id AS measurement_measurement_source_concept_id, measurement.measurement_type_concept_id AS measurement_measurement_type_concept_id, measurement.operator_concept_id AS measurement_operator_concept_id, measurement.modifier_of_field_concept_id AS measurement_modifier_of_field_concept_id \n",
      "FROM measurement \n",
      "WHERE measurement.modifier_of_event_id IN (?, ?, ?, ?, ?)\n",
      "2024-02-07 09:53:49,545 INFO sqlalchemy.engine.Engine [generated in 0.00140s] (1, 2, 3, 4, 5)\n",
      "2024-02-07 09:53:49,549 INFO sqlalchemy.engine.Engine ROLLBACK\n"
     ]
    }
   ],
   "source": [
    "\n",
    "import sqlalchemy.orm as so\n",
    "import sqlalchemy.sql.sqltypes as sss\n",
    "from omop_alchemy.db.config import engine, config\n",
    "from omop_alchemy.tables.clinical import Person, Condition_Occurrence\n",
    "\n",
    "with so.Session(engine) as sess:\n",
    "    people = sess.query(Person\n",
    "                        ).options(so.joinedload(Person.conditions, \n",
    "                                                Condition_Occurrence.condition_concept)).all()"
   ]
  },
  {
   "cell_type": "code",
   "execution_count": 6,
   "metadata": {},
   "outputs": [
    {
     "data": {
      "text/plain": [
       "[Person: person_id = 1,\n",
       " Person: person_id = 2,\n",
       " Person: person_id = 3,\n",
       " Person: person_id = 4]"
      ]
     },
     "execution_count": 6,
     "metadata": {},
     "output_type": "execute_result"
    }
   ],
   "source": [
    "people"
   ]
  },
  {
   "cell_type": "code",
   "execution_count": null,
   "metadata": {},
   "outputs": [],
   "source": [
    "import csv\n",
    "from pathlib import Path\n",
    "from datetime import datetime\n",
    "\n",
    "import sqlalchemy as sa\n",
    "import sqlalchemy.orm as so\n",
    "import sqlalchemy.sql.sqltypes as sss\n",
    "\n",
    "from omop_alchemy.db.config import engine, config\n",
    "from omop_alchemy.tables.clinical import Person, Condition_Occurrence, Measurement\n",
    "from omop_alchemy.tables.health_system import Care_Site, Location, Provider\n",
    "from omop_alchemy.tables.vocabulary import Concept, Vocabulary, Concept_Class, Domain, Relationship, \\\n",
    "                                Concept_Relationship, Concept_Ancestor\n",
    "\n",
    "# TODO: insert some validation and checks to make sure folk know how and why to do this (and the limits for demo purposes)\n",
    "\n",
    "to_load_vocabulary = {'folder': 'ohdsi_vocabs',\n",
    "                      'VOCABULARY.csv': Vocabulary, \n",
    "                      'CONCEPT.csv': Concept, \n",
    "                      'CONCEPT_CLASS.csv': Concept_Class, \n",
    "                      'DOMAIN.csv': Domain,\n",
    "                      'RELATIONSHIP.csv': Relationship}\n",
    "                      #'CONCEPT_RELATIONSHIP.csv': Concept_Relationship,\n",
    "                      #'CONCEPT_ANCESTOR.csv': Concept_Ancestor}\n",
    "\n",
    "to_load_health_system = {'folder': 'demo_data',\n",
    "                         'CARE_SITE.csv': Care_Site,\n",
    "                         'LOCATION.csv': Location,\n",
    "                         'PROVIDER.csv': Provider}\n",
    "\n",
    "to_load_clinical = {'folder': 'demo_data',\n",
    "                    'PERSON.csv': Person,\n",
    "                    'CONDITION_OCCURRENCE.csv': Condition_Occurrence,\n",
    "                    'MEASUREMENT.csv': Measurement}#,\n",
    "                    #'CONCEPT.csv': Concept}\n",
    "\n",
    "# flexible loading of ohdsi vocab files downloaded to the path /data/ohdsi_vocabs\n",
    "\n",
    "def datetime_conversion(dt, fmt):\n",
    "    if dt != '':\n",
    "        return datetime.strptime(dt, fmt)\n",
    "    \n",
    "def convert_date_col(dt):\n",
    "    return datetime_conversion(dt, '%Y%m%d')\n",
    "    \n",
    "def convert_time_col(dt):\n",
    "    return datetime_conversion(dt, '%H%M%S')\n",
    "\n",
    "def convert_datetime_col(dt):\n",
    "    return datetime_conversion(dt, '%Y%m%d%H%M%S')\n",
    "\n",
    "def callable_pass(s):\n",
    "    return s\n",
    "\n",
    "def convert_int(i):\n",
    "    try:\n",
    "        return int(i)\n",
    "    except:\n",
    "        return 0\n",
    "    \n",
    "def convert_dec(i):\n",
    "    try:\n",
    "        return Decimal(i)\n",
    "    except:\n",
    "        return 0\n",
    "\n",
    "type_map = {sss.BigInteger: convert_int, \n",
    "            sss.Integer: convert_int, \n",
    "            sss.Numeric: convert_dec, \n",
    "            sss.DateTime: convert_datetime_col, \n",
    "            sss.Time: convert_time_col, \n",
    "            sss.String: callable_pass, \n",
    "            sss.Date: convert_date_col}\n",
    "\n",
    "def get_type_lookup(interface):\n",
    "    return {c.key: type_map[type(c.type)] for c in interface.__table__._columns}\n",
    "\n",
    "\n",
    "\n",
    "to_load = to_load_clinical\n",
    "\n",
    "with so.Session(engine) as sess:\n",
    "    folder = Path(config.VOCAB_PATH) / to_load['folder']\n",
    "    print(folder)\n",
    "    for ohdsi_file, interface in to_load.items():\n",
    "        if interface != folder.name:\n",
    "                with open(folder / ohdsi_file, 'r') as file:\n",
    "                    reader = csv.DictReader(file, delimiter='\\t')\n",
    "                    field_map = get_type_lookup(interface)\n",
    "                    \n",
    "                    for row in reader:\n",
    "                        record = {field:field_map[field](data) for field, data in row.items() if field in field_map}\n",
    "                        o = interface(**record)\n",
    "                        sess.add(o)\n",
    "\n",
    "                    print(f'complete load for: {ohdsi_file}')\n",
    "            \n",
    "    sess.commit()\n"
   ]
  },
  {
   "cell_type": "code",
   "execution_count": null,
   "metadata": {},
   "outputs": [],
   "source": []
  }
 ],
 "metadata": {
  "kernelspec": {
   "display_name": "omop-alchemy-utmE2YHc-py3.11",
   "language": "python",
   "name": "python3"
  },
  "language_info": {
   "codemirror_mode": {
    "name": "ipython",
    "version": 3
   },
   "file_extension": ".py",
   "mimetype": "text/x-python",
   "name": "python",
   "nbconvert_exporter": "python",
   "pygments_lexer": "ipython3",
   "version": "3.11.0"
  }
 },
 "nbformat": 4,
 "nbformat_minor": 2
}
