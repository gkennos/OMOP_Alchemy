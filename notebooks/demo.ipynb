{
 "cells": [
  {
   "cell_type": "code",
   "execution_count": 1,
   "metadata": {},
   "outputs": [],
   "source": [
    "import omop_alchemy as oa\n",
    "from omop_alchemy.helpers.populate_db import populate_demo_db, to_load_vocabulary, to_load_clinical, to_load_health_system"
   ]
  },
  {
   "cell_type": "code",
   "execution_count": null,
   "metadata": {},
   "outputs": [],
   "source": []
  },
  {
   "cell_type": "code",
   "execution_count": 2,
   "metadata": {},
   "outputs": [
    {
     "name": "stdout",
     "output_type": "stream",
     "text": [
      "/Users/georginakennedy/cloudstor/CBDRH/ACDN/OMOP_Alchemy/omop_alchemy/resources/demo_data\n",
      "complete load for: CARE_SITE.csv\n",
      "complete load for: LOCATION.csv\n",
      "complete load for: PROVIDER.csv\n"
     ]
    }
   ],
   "source": [
    "# make sure to download a small athena zip file (suggested no more than 2-4 vocabs for demo purposes)\n",
    "# and unzip to omop_alchemy/resources/ohdsi_vocabs before running this script. \n",
    "\n",
    "populate_demo_db(to_load_health_system)"
   ]
  },
  {
   "cell_type": "code",
   "execution_count": 3,
   "metadata": {},
   "outputs": [
    {
     "name": "stdout",
     "output_type": "stream",
     "text": [
      "/Users/georginakennedy/cloudstor/CBDRH/ACDN/OMOP_Alchemy/omop_alchemy/resources/demo_data\n",
      "Error loading data file PERSON.csv. Have you unzipped it in the correct location (/Users/georginakennedy/cloudstor/CBDRH/ACDN/OMOP_Alchemy/omop_alchemy/resources)?\n",
      "complete load for: CONDITION_OCCURRENCE.csv\n",
      "complete load for: MEASUREMENT.csv\n"
     ]
    }
   ],
   "source": [
    "\n",
    "populate_demo_db(to_load_clinical)"
   ]
  },
  {
   "cell_type": "code",
   "execution_count": 4,
   "metadata": {},
   "outputs": [
    {
     "name": "stdout",
     "output_type": "stream",
     "text": [
      "/Users/georginakennedy/cloudstor/CBDRH/ACDN/OMOP_Alchemy/omop_alchemy/resources/ohdsi_vocabs\n",
      "complete load for: VOCABULARY.csv\n",
      "complete load for: CONCEPT.csv\n",
      "complete load for: CONCEPT_CLASS.csv\n",
      "complete load for: DOMAIN.csv\n",
      "complete load for: RELATIONSHIP.csv\n"
     ]
    }
   ],
   "source": [
    "populate_demo_db(to_load_vocabulary)"
   ]
  },
  {
   "cell_type": "code",
   "execution_count": null,
   "metadata": {},
   "outputs": [],
   "source": [
    "\n",
    "import sqlalchemy.orm as so\n",
    "import sqlalchemy.sql.sqltypes as sss\n",
    "from omop_alchemy.db.config import engine, config\n",
    "from omop_alchemy.tables.clinical import Person, Condition_Occurrence, Measurement, Observation\n",
    "\n",
    "with so.Session(engine) as sess:\n",
    "    people = sess.query(Person\n",
    "                        ).options(so.joinedload(Person.conditions, \n",
    "                                                Condition_Occurrence.condition_concept)\n",
    "                        ).options(so.joinedload(Person.conditions,\n",
    "                                                Condition_Occurrence.modifiers,\n",
    "                                                Measurement.measurement_concept)\n",
    "                        ).options(so.joinedload(Person.conditions,\n",
    "                                                Condition_Occurrence.related_obs,\n",
    "                                                Observation.observation_concept)).all()"
   ]
  },
  {
   "cell_type": "code",
   "execution_count": null,
   "metadata": {},
   "outputs": [],
   "source": [
    "[[(c.condition_concept.concept_name, [m.measurement_concept for m in c.modifiers]) for c in p.conditions] for p in people]"
   ]
  },
  {
   "cell_type": "code",
   "execution_count": null,
   "metadata": {},
   "outputs": [],
   "source": [
    "[[(c.condition_concept.concept_name, [m.observation_concept for m in c.related_obs]) for c in p.conditions] for p in people]"
   ]
  },
  {
   "cell_type": "code",
   "execution_count": null,
   "metadata": {},
   "outputs": [],
   "source": [
    "from omop_alchemy.tables.clinical import Person, Condition_Occurrence, Measurement, Observation\n",
    "from omop_alchemy.tables.vocabulary import Concept, Concept_Relationship\n",
    "\n",
    "Regimen = so.aliased(Concept, name='regimen')\n",
    "Drugs = so.aliased(Concept, name='drugs')\n",
    "\n",
    "with so.Session(engine) as sess:\n",
    "\n",
    "        query = sess.query(Regimen.concept_id.label('regimen_id'),\n",
    "                          Regimen.concept_name.label('regimen_name'),\n",
    "                          Concept_Relationship.relationship_id,\n",
    "                          Drugs.concept_id.label('drug_id'),\n",
    "                          Drugs.concept_name.label('drug_name')\n",
    "                          ).join(Concept_Relationship, Concept_Relationship.concept_id_1==Regimen.concept_id\n",
    "                          ).join(Drugs, Concept_Relationship.concept_id_2==Drugs.concept_id\n",
    "                          ).filter(Regimen.vocabulary_id=='HemOnc'\n",
    "                          ).filter(Regimen.concept_class_id=='Regimen'\n",
    "                          ).filter(Drugs.vocabulary_id=='HemOnc'\n",
    "                          ).filter(Drugs.concept_class_id=='Component'\n",
    "                          ).order_by(Regimen.concept_id.desc())\n",
    "        r = query.all()"
   ]
  },
  {
   "cell_type": "code",
   "execution_count": null,
   "metadata": {},
   "outputs": [],
   "source": [
    "r"
   ]
  },
  {
   "cell_type": "code",
   "execution_count": null,
   "metadata": {},
   "outputs": [],
   "source": [
    "import csv\n",
    "from pathlib import Path\n",
    "from datetime import datetime\n",
    "\n",
    "import sqlalchemy as sa\n",
    "import sqlalchemy.orm as so\n",
    "import sqlalchemy.sql.sqltypes as sss\n",
    "\n",
    "from omop_alchemy.db.config import engine, config\n",
    "from omop_alchemy.tables.clinical import Person, Condition_Occurrence, Measurement\n",
    "from omop_alchemy.tables.health_system import Care_Site, Location, Provider\n",
    "from omop_alchemy.tables.vocabulary import Concept, Vocabulary, Concept_Class, Domain, Relationship, \\\n",
    "                                Concept_Relationship, Concept_Ancestor\n",
    "\n",
    "# TODO: insert some validation and checks to make sure folk know how and why to do this (and the limits for demo purposes)\n",
    "\n",
    "to_load_vocabulary = {'folder': 'ohdsi_vocabs',\n",
    "                      'VOCABULARY.csv': Vocabulary, \n",
    "                      'CONCEPT.csv': Concept, \n",
    "                      'CONCEPT_CLASS.csv': Concept_Class, \n",
    "                      'DOMAIN.csv': Domain,\n",
    "                      'RELATIONSHIP.csv': Relationship}\n",
    "                      #'CONCEPT_RELATIONSHIP.csv': Concept_Relationship,\n",
    "                      #'CONCEPT_ANCESTOR.csv': Concept_Ancestor}\n",
    "\n",
    "to_load_health_system = {'folder': 'demo_data',\n",
    "                         'CARE_SITE.csv': Care_Site,\n",
    "                         'LOCATION.csv': Location,\n",
    "                         'PROVIDER.csv': Provider}\n",
    "\n",
    "to_load_clinical = {'folder': 'demo_data',\n",
    "                    'PERSON.csv': Person,\n",
    "                    'CONDITION_OCCURRENCE.csv': Condition_Occurrence,\n",
    "                    'MEASUREMENT.csv': Measurement}#,\n",
    "                    #'CONCEPT.csv': Concept}\n",
    "\n",
    "# flexible loading of ohdsi vocab files downloaded to the path /data/ohdsi_vocabs\n",
    "\n",
    "def datetime_conversion(dt, fmt):\n",
    "    if dt != '':\n",
    "        return datetime.strptime(dt, fmt)\n",
    "    \n",
    "def convert_date_col(dt):\n",
    "    return datetime_conversion(dt, '%Y%m%d')\n",
    "    \n",
    "def convert_time_col(dt):\n",
    "    return datetime_conversion(dt, '%H%M%S')\n",
    "\n",
    "def convert_datetime_col(dt):\n",
    "    return datetime_conversion(dt, '%Y%m%d%H%M%S')\n",
    "\n",
    "def callable_pass(s):\n",
    "    return s\n",
    "\n",
    "def convert_int(i):\n",
    "    try:\n",
    "        return int(i)\n",
    "    except:\n",
    "        return 0\n",
    "    \n",
    "def convert_dec(i):\n",
    "    try:\n",
    "        return Decimal(i)\n",
    "    except:\n",
    "        return 0\n",
    "\n",
    "type_map = {sss.BigInteger: convert_int, \n",
    "            sss.Integer: convert_int, \n",
    "            sss.Numeric: convert_dec, \n",
    "            sss.DateTime: convert_datetime_col, \n",
    "            sss.Time: convert_time_col, \n",
    "            sss.String: callable_pass, \n",
    "            sss.Date: convert_date_col}\n",
    "\n",
    "def get_type_lookup(interface):\n",
    "    return {c.key: type_map[type(c.type)] for c in interface.__table__._columns}\n",
    "\n",
    "\n",
    "\n",
    "to_load = to_load_clinical\n",
    "\n",
    "with so.Session(engine) as sess:\n",
    "    folder = Path(config.VOCAB_PATH) / to_load['folder']\n",
    "    print(folder)\n",
    "    for ohdsi_file, interface in to_load.items():\n",
    "        if interface != folder.name:\n",
    "                with open(folder / ohdsi_file, 'r') as file:\n",
    "                    reader = csv.DictReader(file, delimiter='\\t')\n",
    "                    field_map = get_type_lookup(interface)\n",
    "                    \n",
    "                    for row in reader:\n",
    "                        record = {field:field_map[field](data) for field, data in row.items() if field in field_map}\n",
    "                        o = interface(**record)\n",
    "                        sess.add(o)\n",
    "\n",
    "                    print(f'complete load for: {ohdsi_file}')\n",
    "            \n",
    "    sess.commit()\n"
   ]
  },
  {
   "cell_type": "code",
   "execution_count": null,
   "metadata": {},
   "outputs": [],
   "source": [
    "for m in Person.registry.mappers:\n",
    "    print(m.class_)\n",
    "    print('\\t', m.c.keys())"
   ]
  },
  {
   "cell_type": "code",
   "execution_count": null,
   "metadata": {},
   "outputs": [],
   "source": [
    "Person.gender_concept.expression"
   ]
  },
  {
   "cell_type": "code",
   "execution_count": null,
   "metadata": {},
   "outputs": [],
   "source": []
  },
  {
   "cell_type": "code",
   "execution_count": null,
   "metadata": {},
   "outputs": [],
   "source": []
  }
 ],
 "metadata": {
  "kernelspec": {
   "display_name": "omop-alchemy-utmE2YHc-py3.11",
   "language": "python",
   "name": "python3"
  },
  "language_info": {
   "codemirror_mode": {
    "name": "ipython",
    "version": 3
   },
   "file_extension": ".py",
   "mimetype": "text/x-python",
   "name": "python",
   "nbconvert_exporter": "python",
   "pygments_lexer": "ipython3",
   "version": "3.11.0"
  }
 },
 "nbformat": 4,
 "nbformat_minor": 2
}
