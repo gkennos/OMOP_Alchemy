{
 "cells": [
  {
   "cell_type": "code",
   "execution_count": 1,
   "metadata": {},
   "outputs": [],
   "source": [
    "import omop_alchemy as oa\n",
    "from omop_alchemy.db import Base, engine\n",
    "\n",
    "import sqlalchemy as sa\n",
    "import sqlalchemy.orm as so\n",
    "\n",
    "from omop_alchemy.tables.clinical import Person, Condition_Occurrence, Measurement\n"
   ]
  },
  {
   "cell_type": "code",
   "execution_count": 2,
   "metadata": {},
   "outputs": [],
   "source": [
    "with so.Session(engine) as sess:\n",
    "    conds = sess.query(Condition_Occurrence).options(so.joinedload(Condition_Occurrence.modifiers,\n",
    "                                                      Measurement.measurement_concept)).all()"
   ]
  },
  {
   "cell_type": "code",
   "execution_count": 3,
   "metadata": {},
   "outputs": [
    {
     "data": {
      "text/plain": [
       "[[<omop_alchemy.tables.clinical.measurement.Measurement at 0x10b92d310>,\n",
       "  <omop_alchemy.tables.clinical.measurement.Measurement at 0x10b92d690>,\n",
       "  <omop_alchemy.tables.clinical.measurement.Measurement at 0x10b92d850>],\n",
       " [],\n",
       " [],\n",
       " [],\n",
       " []]"
      ]
     },
     "execution_count": 3,
     "metadata": {},
     "output_type": "execute_result"
    }
   ],
   "source": [
    "[c.modifiers for c in conds]"
   ]
  },
  {
   "cell_type": "code",
   "execution_count": 9,
   "metadata": {},
   "outputs": [
    {
     "name": "stdout",
     "output_type": "stream",
     "text": [
      "Adenocarcinoma, NOS, of prostate gland:\n",
      "\t<Concept 35918328 - 440 (Grade)>\n",
      "\t<Concept 35918383 - 960 (TNM Clin M)>\n",
      "\tNone\n",
      "Neoplasm, malignant of breast, NOS:\n",
      "Spindle cell sarcoma of lesser curvature of stomach, NOS:\n",
      "Giant cell carcinoma of descending colon:\n",
      "Neoplasm, metastatic of liver:\n",
      "\n"
     ]
    }
   ],
   "source": [
    "with so.Session(engine) as sess:\n",
    "    people = sess.query(Person).options(so.joinedload(Person.conditions, \n",
    "                                                            Condition_Occurrence.condition_concept)\n",
    "                                    ).options(so.joinedload(Person.conditions,\n",
    "                                                            Condition_Occurrence.modifiers,\n",
    "                                                            Measurement.measurement_concept)).all()\n",
    "    \n",
    "    print(''.join([''.join([(f'{c.condition_concept.concept_name}:\\n' + ''.join([f'\\t{m.measurement_concept}\\n' for m in c.modifiers])) for c in p.conditions]) for p in people]))\n"
   ]
  },
  {
   "cell_type": "code",
   "execution_count": null,
   "metadata": {},
   "outputs": [],
   "source": [
    "conds[4].modifiers"
   ]
  },
  {
   "cell_type": "code",
   "execution_count": null,
   "metadata": {},
   "outputs": [],
   "source": [
    "with so.Session(engine) as sess:\n",
    "    people = sess.query(Person).options(so.joinedload(Person.conditions, \n",
    "                                                      Condition_Occurrence.condition_concept)\n",
    "                              ).options(so.joinedload(Person.conditions,\n",
    "                                                      Condition_Occurrence.modifiers,\n",
    "                                                      Measurement.measurement_concept)).all()\n"
   ]
  },
  {
   "cell_type": "code",
   "execution_count": null,
   "metadata": {},
   "outputs": [],
   "source": [
    "people[0].conditions[0].modifiers[0].measurement_concept"
   ]
  },
  {
   "cell_type": "code",
   "execution_count": null,
   "metadata": {},
   "outputs": [],
   "source": [
    "people[0].conditions[0].modifiers[0].measurement_concept_id"
   ]
  },
  {
   "cell_type": "code",
   "execution_count": null,
   "metadata": {},
   "outputs": [],
   "source": []
  }
 ],
 "metadata": {
  "kernelspec": {
   "display_name": ".venv",
   "language": "python",
   "name": "python3"
  },
  "language_info": {
   "codemirror_mode": {
    "name": "ipython",
    "version": 3
   },
   "file_extension": ".py",
   "mimetype": "text/x-python",
   "name": "python",
   "nbconvert_exporter": "python",
   "pygments_lexer": "ipython3",
   "version": "3.11.0"
  }
 },
 "nbformat": 4,
 "nbformat_minor": 2
}
