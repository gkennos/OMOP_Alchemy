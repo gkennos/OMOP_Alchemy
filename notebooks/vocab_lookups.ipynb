{
 "cells": [
  {
   "cell_type": "code",
   "execution_count": 23,
   "metadata": {},
   "outputs": [],
   "source": [
    "from collections import defaultdict\n",
    "import sqlalchemy as sa\n",
    "import sqlalchemy.orm as so\n",
    "import sqlalchemy.sql.sqltypes as sss\n",
    "import sqlalchemy.sql.expression as exp\n",
    "import re\n",
    "\n",
    "from omop_alchemy.db import Base, engine\n",
    "from omop_alchemy.tables.vocabulary import Concept, Concept_Relationship, Concept_Ancestor"
   ]
  },
  {
   "cell_type": "code",
   "execution_count": 2,
   "metadata": {},
   "outputs": [],
   "source": [
    "import enum\n",
    "\n",
    "class ConceptEnum(enum.Enum):\n",
    "\n",
    "    @classmethod\n",
    "    def member_values(cls):\n",
    "        return (s.value for s in cls)\n",
    "    \n",
    "    @classmethod\n",
    "    def is_member(cls, val):\n",
    "        return not val or val in [s.value for s in cls]\n",
    "\n",
    "    @classmethod\n",
    "    def labels(cls):\n",
    "        return [s.name for s in cls]\n",
    "    \n",
    "\n",
    "class TNM(ConceptEnum):\n",
    "    parent_mod = 734320"
   ]
  },
  {
   "cell_type": "code",
   "execution_count": 50,
   "metadata": {},
   "outputs": [],
   "source": [
    "\n",
    "class VocabLookup:\n",
    "    # base class for custom vocabulary lookups\n",
    "\n",
    "    # correction parameter holds an ordered list of callable corrections \n",
    "    # - try match the raw input string first \n",
    "    # - then apply corrections in order and return the first match \n",
    "    # - examples of correction functions would be stripping punctuation, \n",
    "    #   spelling correction functions\n",
    "\n",
    "    def __init__(self, \n",
    "                 unknown=0,           # TODO: tbd do we want to define behaviours when mapping is not found?\n",
    "                 parent=None,         # used when you want to pull all child concepts under a given parent into the lookup\n",
    "                 domain=None,         # otherwise we are grabbing by specification of domain\n",
    "                 standard_only=True): # for when you want to toggle between grabbing children from standard concepts strictly or not\n",
    "        self._unknown = unknown\n",
    "        self._lookup = defaultdict(self.return_unknown)\n",
    "        self._domain = domain\n",
    "        self._standard_only = standard_only\n",
    "        # parent parameter is the high-level concept under which you want to pull\n",
    "        # in all available matches - e.g. TNM stages, which can grab all concepts \n",
    "        # that fall under the parent concept from the concept_relationship table\n",
    "        self._parent = parent.value if isinstance(parent, ConceptEnum) else parent\n",
    "        self._correction = None\n",
    "        with so.Session(engine) as session:\n",
    "            # TBD: question - do we need to provide support for combining parent \n",
    "            # definition with domain def? is this a likely use-case? it won't fail \n",
    "            # for now, but perhaps check?\n",
    "            if parent is not None:\n",
    "                self.get_lookup(session)\n",
    "            if domain is not None:\n",
    "                self.get_domain_lookup(session)\n",
    "        \n",
    "        # TODO: consider generalisable creation of custom maps to host \n",
    "        # manual mappings of local concepts to OMOP concepts as well?\n",
    "\n",
    "    \n",
    "    def get_domain_lookup(self, session):\n",
    "        # returns a default dictionary that contains all\n",
    "        # concepts under a given domain for rapid lookups\n",
    "        \n",
    "        d = session.query(Concept.concept_name,\n",
    "                          Concept.concept_id\n",
    "                         ).filter(Concept.domain_id==self._domain).all()\n",
    "        for row in d:\n",
    "            self._lookup[row.concept_name.lower().strip()] = row.concept_id\n",
    "    \n",
    "    def get_standard_hierarchy(self, session):\n",
    "        children = session.query(Concept_Ancestor\n",
    "                                ).options(so.joinedload(Concept_Ancestor.descendant)\n",
    "                                ).filter(Concept_Ancestor.ancestor_concept_id == self._parent).distinct().all()\n",
    "        return [c.descendant for c in children]\n",
    "        \n",
    "    def get_all_hierarchy(self, this_level, concepts, session):\n",
    "        # TODO: check if we want to do this thru Concept_Ancestor strictly\n",
    "        # if confirmed we only want to be doing for standard concepts?\n",
    "        # this is iterative and slow way of doing it to arbitrary depths\n",
    "        # otherwise...but good if you want to include non-standard \n",
    "        # children - maybe useful in condition_concept_id?\n",
    "\n",
    "        if len(this_level) == 0:\n",
    "            return concepts\n",
    "        children = session.query(Concept\n",
    "                                ).join(Concept_Relationship, Concept_Relationship.concept_id_2==Concept.concept_id\n",
    "                                ).filter(Concept_Relationship.concept_id_1.in_(this_level)\n",
    "                                ).filter(Concept_Relationship.relationship_id=='Subsumes').distinct().all()\n",
    "        next_level = tuple([c.concept_id for c in children if c not in concepts])\n",
    "        concepts += children\n",
    "        concepts = self.get_all_hierarchy(next_level, concepts, session)\n",
    "        return concepts\n",
    "\n",
    "    def get_lookup(self, session):\n",
    "        # returns a default dictionary that contains all\n",
    "        # concepts under a given parent concept and the\n",
    "        # appropriate unknown value for the target context\n",
    "        if not self._standard_only:\n",
    "            concepts = self.get_all_hierarchy(tuple([self._parent]), [], session)\n",
    "        else:\n",
    "            concepts = self.get_standard_hierarchy(session)\n",
    "        for c in concepts:\n",
    "            self._lookup[c.concept_name.lower()] = c.concept_id\n",
    "            self._lookup[c.concept_code.lower()] = c.concept_id\n",
    "\n",
    "    def return_unknown(self):\n",
    "        return self._unknown.value\n",
    "\n",
    "    def lookup_exact(self, term):\n",
    "        if term == None:\n",
    "            term = ''\n",
    "        return self._lookup[term.lower().strip()]\n",
    "\n",
    "    def lookup(self, term):\n",
    "        if term == None:\n",
    "            term = ''\n",
    "        value = self._lookup[term.lower().strip()]\n",
    "        if self._correction is not None:\n",
    "            for c in self._correction:\n",
    "                if value != self._unknown:\n",
    "                    break\n",
    "                value = self._lookup[c(term).lower().strip()]\n",
    "        return value"
   ]
  },
  {
   "cell_type": "code",
   "execution_count": 51,
   "metadata": {},
   "outputs": [
    {
     "ename": "AttributeError",
     "evalue": "'Concept_Ancestor' object has no attribute 'descendent'",
     "output_type": "error",
     "traceback": [
      "\u001b[0;31m---------------------------------------------------------------------------\u001b[0m",
      "\u001b[0;31mAttributeError\u001b[0m                            Traceback (most recent call last)",
      "Cell \u001b[0;32mIn[51], line 1\u001b[0m\n\u001b[0;32m----> 1\u001b[0m tnm \u001b[38;5;241m=\u001b[39m \u001b[43mVocabLookup\u001b[49m\u001b[43m(\u001b[49m\u001b[43mparent\u001b[49m\u001b[38;5;241;43m=\u001b[39;49m\u001b[43mTNM\u001b[49m\u001b[38;5;241;43m.\u001b[39;49m\u001b[43mparent_mod\u001b[49m\u001b[43m)\u001b[49m\n",
      "Cell \u001b[0;32mIn[50], line 29\u001b[0m, in \u001b[0;36mVocabLookup.__init__\u001b[0;34m(self, unknown, parent, domain, standard_only)\u001b[0m\n\u001b[1;32m     24\u001b[0m \u001b[38;5;28;01mwith\u001b[39;00m so\u001b[38;5;241m.\u001b[39mSession(engine) \u001b[38;5;28;01mas\u001b[39;00m session:\n\u001b[1;32m     25\u001b[0m     \u001b[38;5;66;03m# TBD: question - do we need to provide support for combining parent \u001b[39;00m\n\u001b[1;32m     26\u001b[0m     \u001b[38;5;66;03m# definition with domain def? is this a likely use-case? it won't fail \u001b[39;00m\n\u001b[1;32m     27\u001b[0m     \u001b[38;5;66;03m# for now, but perhaps check?\u001b[39;00m\n\u001b[1;32m     28\u001b[0m     \u001b[38;5;28;01mif\u001b[39;00m parent \u001b[38;5;129;01mis\u001b[39;00m \u001b[38;5;129;01mnot\u001b[39;00m \u001b[38;5;28;01mNone\u001b[39;00m:\n\u001b[0;32m---> 29\u001b[0m         \u001b[38;5;28;43mself\u001b[39;49m\u001b[38;5;241;43m.\u001b[39;49m\u001b[43mget_lookup\u001b[49m\u001b[43m(\u001b[49m\u001b[43msession\u001b[49m\u001b[43m)\u001b[49m\n\u001b[1;32m     30\u001b[0m     \u001b[38;5;28;01mif\u001b[39;00m domain \u001b[38;5;129;01mis\u001b[39;00m \u001b[38;5;129;01mnot\u001b[39;00m \u001b[38;5;28;01mNone\u001b[39;00m:\n\u001b[1;32m     31\u001b[0m         \u001b[38;5;28mself\u001b[39m\u001b[38;5;241m.\u001b[39mget_domain_lookup(session)\n",
      "Cell \u001b[0;32mIn[50], line 78\u001b[0m, in \u001b[0;36mVocabLookup.get_lookup\u001b[0;34m(self, session)\u001b[0m\n\u001b[1;32m     76\u001b[0m     concepts \u001b[38;5;241m=\u001b[39m \u001b[38;5;28mself\u001b[39m\u001b[38;5;241m.\u001b[39mget_all_hierarchy(\u001b[38;5;28mtuple\u001b[39m([\u001b[38;5;28mself\u001b[39m\u001b[38;5;241m.\u001b[39m_parent]), [], session)\n\u001b[1;32m     77\u001b[0m \u001b[38;5;28;01melse\u001b[39;00m:\n\u001b[0;32m---> 78\u001b[0m     concepts \u001b[38;5;241m=\u001b[39m \u001b[38;5;28;43mself\u001b[39;49m\u001b[38;5;241;43m.\u001b[39;49m\u001b[43mget_standard_hierarchy\u001b[49m\u001b[43m(\u001b[49m\u001b[43msession\u001b[49m\u001b[43m)\u001b[49m\n\u001b[1;32m     79\u001b[0m \u001b[38;5;28;01mfor\u001b[39;00m c \u001b[38;5;129;01min\u001b[39;00m concepts:\n\u001b[1;32m     80\u001b[0m     \u001b[38;5;28mself\u001b[39m\u001b[38;5;241m.\u001b[39m_lookup[c\u001b[38;5;241m.\u001b[39mconcept_name\u001b[38;5;241m.\u001b[39mlower()] \u001b[38;5;241m=\u001b[39m c\u001b[38;5;241m.\u001b[39mconcept_id\n",
      "Cell \u001b[0;32mIn[50], line 51\u001b[0m, in \u001b[0;36mVocabLookup.get_standard_hierarchy\u001b[0;34m(self, session)\u001b[0m\n\u001b[1;32m     47\u001b[0m \u001b[38;5;28;01mdef\u001b[39;00m \u001b[38;5;21mget_standard_hierarchy\u001b[39m(\u001b[38;5;28mself\u001b[39m, session):\n\u001b[1;32m     48\u001b[0m     children \u001b[38;5;241m=\u001b[39m session\u001b[38;5;241m.\u001b[39mquery(Concept_Ancestor\n\u001b[1;32m     49\u001b[0m                             )\u001b[38;5;241m.\u001b[39moptions(so\u001b[38;5;241m.\u001b[39mjoinedload(Concept_Ancestor\u001b[38;5;241m.\u001b[39mdescendant)\n\u001b[1;32m     50\u001b[0m                             )\u001b[38;5;241m.\u001b[39mfilter(Concept_Ancestor\u001b[38;5;241m.\u001b[39mancestor_concept_id \u001b[38;5;241m==\u001b[39m \u001b[38;5;28mself\u001b[39m\u001b[38;5;241m.\u001b[39m_parent)\u001b[38;5;241m.\u001b[39mdistinct()\u001b[38;5;241m.\u001b[39mall()\n\u001b[0;32m---> 51\u001b[0m     \u001b[38;5;28;01mreturn\u001b[39;00m \u001b[43m[\u001b[49m\u001b[43mc\u001b[49m\u001b[38;5;241;43m.\u001b[39;49m\u001b[43mdescendent\u001b[49m\u001b[43m \u001b[49m\u001b[38;5;28;43;01mfor\u001b[39;49;00m\u001b[43m \u001b[49m\u001b[43mc\u001b[49m\u001b[43m \u001b[49m\u001b[38;5;129;43;01min\u001b[39;49;00m\u001b[43m \u001b[49m\u001b[43mchildren\u001b[49m\u001b[43m]\u001b[49m\n",
      "Cell \u001b[0;32mIn[50], line 51\u001b[0m, in \u001b[0;36m<listcomp>\u001b[0;34m(.0)\u001b[0m\n\u001b[1;32m     47\u001b[0m \u001b[38;5;28;01mdef\u001b[39;00m \u001b[38;5;21mget_standard_hierarchy\u001b[39m(\u001b[38;5;28mself\u001b[39m, session):\n\u001b[1;32m     48\u001b[0m     children \u001b[38;5;241m=\u001b[39m session\u001b[38;5;241m.\u001b[39mquery(Concept_Ancestor\n\u001b[1;32m     49\u001b[0m                             )\u001b[38;5;241m.\u001b[39moptions(so\u001b[38;5;241m.\u001b[39mjoinedload(Concept_Ancestor\u001b[38;5;241m.\u001b[39mdescendant)\n\u001b[1;32m     50\u001b[0m                             )\u001b[38;5;241m.\u001b[39mfilter(Concept_Ancestor\u001b[38;5;241m.\u001b[39mancestor_concept_id \u001b[38;5;241m==\u001b[39m \u001b[38;5;28mself\u001b[39m\u001b[38;5;241m.\u001b[39m_parent)\u001b[38;5;241m.\u001b[39mdistinct()\u001b[38;5;241m.\u001b[39mall()\n\u001b[0;32m---> 51\u001b[0m     \u001b[38;5;28;01mreturn\u001b[39;00m [\u001b[43mc\u001b[49m\u001b[38;5;241;43m.\u001b[39;49m\u001b[43mdescendent\u001b[49m \u001b[38;5;28;01mfor\u001b[39;00m c \u001b[38;5;129;01min\u001b[39;00m children]\n",
      "\u001b[0;31mAttributeError\u001b[0m: 'Concept_Ancestor' object has no attribute 'descendent'"
     ]
    }
   ],
   "source": [
    "tnm = VocabLookup(parent=TNM.parent_mod)"
   ]
  },
  {
   "cell_type": "code",
   "execution_count": 46,
   "metadata": {},
   "outputs": [],
   "source": []
  },
  {
   "cell_type": "code",
   "execution_count": 49,
   "metadata": {},
   "outputs": [
    {
     "data": {
      "text/plain": [
       "1633306"
      ]
     },
     "execution_count": 49,
     "metadata": {},
     "output_type": "execute_result"
    }
   ],
   "source": [
    "l[0].concept_id"
   ]
  },
  {
   "cell_type": "code",
   "execution_count": 47,
   "metadata": {},
   "outputs": [],
   "source": [
    "with so.Session(engine) as session:\n",
    "    l = get_all_hierarchy(, [], session)"
   ]
  },
  {
   "cell_type": "code",
   "execution_count": 36,
   "metadata": {},
   "outputs": [],
   "source": [
    "from_rel = set([ll[0] for ll in l])"
   ]
  },
  {
   "cell_type": "code",
   "execution_count": 34,
   "metadata": {},
   "outputs": [],
   "source": [
    "from_a_codes = set([a.descendant.concept_id for a in from_a])"
   ]
  },
  {
   "cell_type": "code",
   "execution_count": 37,
   "metadata": {},
   "outputs": [
    {
     "data": {
      "text/plain": [
       "[734320]"
      ]
     },
     "execution_count": 37,
     "metadata": {},
     "output_type": "execute_result"
    }
   ],
   "source": [
    "[a for a in from_a_codes if a not in from_rel]"
   ]
  },
  {
   "cell_type": "code",
   "execution_count": 38,
   "metadata": {},
   "outputs": [
    {
     "data": {
      "text/plain": [
       "734320"
      ]
     },
     "execution_count": 38,
     "metadata": {},
     "output_type": "execute_result"
    }
   ],
   "source": []
  },
  {
   "cell_type": "code",
   "execution_count": null,
   "metadata": {},
   "outputs": [],
   "source": []
  }
 ],
 "metadata": {
  "kernelspec": {
   "display_name": ".venv",
   "language": "python",
   "name": "python3"
  },
  "language_info": {
   "codemirror_mode": {
    "name": "ipython",
    "version": 3
   },
   "file_extension": ".py",
   "mimetype": "text/x-python",
   "name": "python",
   "nbconvert_exporter": "python",
   "pygments_lexer": "ipython3",
   "version": "3.11.0"
  }
 },
 "nbformat": 4,
 "nbformat_minor": 2
}
