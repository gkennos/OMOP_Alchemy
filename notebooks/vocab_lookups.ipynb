{
 "cells": [
  {
   "cell_type": "code",
   "execution_count": 1,
   "metadata": {},
   "outputs": [],
   "source": [
    "from collections import defaultdict\n",
    "import sqlalchemy as sa\n",
    "import sqlalchemy.orm as so\n",
    "import sqlalchemy.sql.sqltypes as sss\n",
    "import sqlalchemy.sql.expression as exp\n",
    "import re\n",
    "\n",
    "from omop_alchemy.db import Base, engine\n",
    "from omop_alchemy.tables.vocabulary import Concept, Concept_Relationship, Concept_Ancestor"
   ]
  },
  {
   "cell_type": "code",
   "execution_count": 2,
   "metadata": {},
   "outputs": [],
   "source": [
    "import enum\n",
    "\n",
    "class ConceptEnum(enum.Enum):\n",
    "\n",
    "    @classmethod\n",
    "    def member_values(cls):\n",
    "        return (s.value for s in cls)\n",
    "    \n",
    "    @classmethod\n",
    "    def is_member(cls, val):\n",
    "        return not val or val in [s.value for s in cls]\n",
    "\n",
    "    @classmethod\n",
    "    def labels(cls):\n",
    "        return [s.name for s in cls]\n",
    "    \n",
    "\n",
    "class TNM(ConceptEnum):\n",
    "    parent_mod = 734320"
   ]
  },
  {
   "cell_type": "code",
   "execution_count": 35,
   "metadata": {},
   "outputs": [],
   "source": [
    "\n",
    "class VocabLookup:\n",
    "    # base class for custom vocabulary lookups\n",
    "\n",
    "    # correction parameter holds an ordered list of callable corrections \n",
    "    # - try match the raw input string first \n",
    "    # - then apply corrections in order and return the first match \n",
    "    # - examples of correction functions would be stripping punctuation, \n",
    "    #   spelling correction functions\n",
    "\n",
    "    def __init__(self, \n",
    "                 unknown=0,           # TODO: tbd do we want to define behaviours when mapping is not found?\n",
    "                 parent=None,         # used when you want to pull all child concepts under a given parent into the lookup\n",
    "                 domain=None,         # otherwise we are grabbing by specification of domain\n",
    "                 concept_class=None,  # and optionally concept_class\n",
    "                 standard_only=True): # for when you want to toggle between grabbing children from standard concepts strictly or not\n",
    "        self._unknown = unknown.value if isinstance(unknown, ConceptEnum) else unknown\n",
    "        self._lookup = defaultdict(self.return_unknown)\n",
    "        self._domain = domain\n",
    "        self._concept_class = concept_class\n",
    "        self._standard_only = standard_only\n",
    "        # parent parameter is the high-level concept under which you want to pull\n",
    "        # in all available matches - e.g. TNM stages, which can grab all concepts \n",
    "        # that fall under the parent concept from the concept_relationship table\n",
    "        self._parent = parent.value if isinstance(parent, ConceptEnum) else parent\n",
    "        self._correction = None\n",
    "        with so.Session(engine) as session:\n",
    "            # TBD: question - do we need to provide support for combining parent \n",
    "            # definition with domain def? is this a likely use-case? it won't fail \n",
    "            # for now, but perhaps check?\n",
    "            if parent is not None:\n",
    "                self.get_lookup(session)\n",
    "            if domain is not None:\n",
    "                self.get_domain_lookup(session)\n",
    "        \n",
    "        # TODO: consider generalisable creation of custom maps to host \n",
    "        # manual mappings of local concepts to OMOP concepts as well?\n",
    "\n",
    "    \n",
    "    def get_domain_lookup(self, session):\n",
    "        # returns a default dictionary that contains all\n",
    "        # concepts under a given domain for rapid lookups\n",
    "        \n",
    "        q = session.query(Concept)\n",
    "        if self._domain:\n",
    "            q = q.filter(Concept.domain_id==self._domain)\n",
    "        if self._concept_class:\n",
    "            q = q.filter(Concept.concept_class_id==self._concept_class)\n",
    "        if self._standard_only:\n",
    "            q = q.filter(Concept.standard_concept=='S')\n",
    "        concepts = q.all()\n",
    "        for row in concepts:\n",
    "            self._lookup[row.concept_name.lower().strip()] = row.concept_id\n",
    "            self._lookup[row.concept_code.lower().strip()] = row.concept_id\n",
    "    \n",
    "    def get_standard_hierarchy(self, session):\n",
    "        children = session.query(Concept_Ancestor\n",
    "                                ).options(so.joinedload(Concept_Ancestor.descendant)\n",
    "                                ).filter(Concept_Ancestor.ancestor_concept_id == self._parent).distinct().all()\n",
    "        return [c.descendant for c in children]\n",
    "        \n",
    "    def get_all_hierarchy(self, this_level, concepts, session):\n",
    "        # TODO: check if we want to do this thru Concept_Ancestor strictly\n",
    "        # if confirmed we only want to be doing for standard concepts?\n",
    "        # this is iterative and slow way of doing it to arbitrary depths\n",
    "        # otherwise...but good if you want to include non-standard \n",
    "        # children - maybe useful in condition_concept_id?\n",
    "\n",
    "        if len(this_level) == 0:\n",
    "            return concepts\n",
    "        children = session.query(Concept\n",
    "                                ).join(Concept_Relationship, Concept_Relationship.concept_id_2==Concept.concept_id\n",
    "                                ).filter(Concept_Relationship.concept_id_1.in_(this_level)\n",
    "                                ).filter(Concept_Relationship.relationship_id=='Subsumes').distinct().all()\n",
    "        next_level = tuple([c.concept_id for c in children if c not in concepts])\n",
    "        concepts += children\n",
    "        concepts = self.get_all_hierarchy(next_level, concepts, session)\n",
    "        return concepts\n",
    "\n",
    "    def get_lookup(self, session):\n",
    "        # returns a default dictionary that contains all\n",
    "        # concepts under a given parent concept and the\n",
    "        # appropriate unknown value for the target context\n",
    "        if not self._standard_only:\n",
    "            concepts = self.get_all_hierarchy(tuple([self._parent]), [], session)\n",
    "        else:\n",
    "            concepts = self.get_standard_hierarchy(session)\n",
    "        for c in concepts:\n",
    "            self._lookup[c.concept_name.lower()] = c.concept_id\n",
    "            self._lookup[c.concept_code.lower()] = c.concept_id\n",
    "\n",
    "    def return_unknown(self):\n",
    "        return self._unknown\n",
    "\n",
    "    def lookup_exact(self, term):\n",
    "        if term == None:\n",
    "            term = ''\n",
    "        return self._lookup[term.lower().strip()]\n",
    "\n",
    "    def lookup(self, term):\n",
    "        if term == None:\n",
    "            term = ''\n",
    "        value = self._lookup[term.lower().strip()]\n",
    "        if self._correction is not None:\n",
    "            for c in self._correction:\n",
    "                if value != self._unknown:\n",
    "                    break\n",
    "                value = self._lookup[c(term).lower().strip()]\n",
    "        return value"
   ]
  },
  {
   "cell_type": "code",
   "execution_count": 36,
   "metadata": {},
   "outputs": [],
   "source": [
    "tnm = VocabLookup(parent=TNM.parent_mod)"
   ]
  },
  {
   "cell_type": "code",
   "execution_count": 37,
   "metadata": {},
   "outputs": [
    {
     "data": {
      "text/plain": [
       "(1633374, 1633268, 1633303, 1635412)"
      ]
     },
     "execution_count": 37,
     "metadata": {},
     "output_type": "execute_result"
    }
   ],
   "source": [
    "tnm.lookup('ajcc/uicc 8th pathological t1a category'), tnm.lookup('AJCC/UICC 7th Pathological t1a Category'), tnm.lookup('AJCC/UICC pathological Stage 3A1'), tnm.lookup('AJCC/UICC Stage 3A1')"
   ]
  },
  {
   "cell_type": "code",
   "execution_count": 38,
   "metadata": {},
   "outputs": [],
   "source": [
    "measurements = VocabLookup(domain='Measurement', concept_class='Extension/Invasion')"
   ]
  },
  {
   "cell_type": "code",
   "execution_count": 40,
   "metadata": {},
   "outputs": [
    {
     "data": {
      "text/plain": [
       "734306"
      ]
     },
     "execution_count": 40,
     "metadata": {},
     "output_type": "execute_result"
    }
   ],
   "source": [
    "measurements.lookup('initial diagnosis')"
   ]
  },
  {
   "cell_type": "code",
   "execution_count": 26,
   "metadata": {},
   "outputs": [
    {
     "data": {
      "text/plain": [
       "('Extension/Invasion', 'Measurement', True)"
      ]
     },
     "execution_count": 26,
     "metadata": {},
     "output_type": "execute_result"
    }
   ],
   "source": [
    "measurements._concept_class, measurements._domain, measurements._standard_only"
   ]
  },
  {
   "cell_type": "code",
   "execution_count": null,
   "metadata": {},
   "outputs": [],
   "source": []
  }
 ],
 "metadata": {
  "kernelspec": {
   "display_name": ".venv",
   "language": "python",
   "name": "python3"
  },
  "language_info": {
   "codemirror_mode": {
    "name": "ipython",
    "version": 3
   },
   "file_extension": ".py",
   "mimetype": "text/x-python",
   "name": "python",
   "nbconvert_exporter": "python",
   "pygments_lexer": "ipython3",
   "version": "3.11.0"
  }
 },
 "nbformat": 4,
 "nbformat_minor": 2
}
