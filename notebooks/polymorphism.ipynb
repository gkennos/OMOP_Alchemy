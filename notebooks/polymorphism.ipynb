{
 "cells": [
  {
   "cell_type": "code",
   "execution_count": 2,
   "metadata": {},
   "outputs": [],
   "source": [
    "import omop_alchemy as oa\n",
    "from omop_alchemy.db import Base, engine\n",
    "\n",
    "import sqlalchemy as sa\n",
    "import sqlalchemy.orm as so\n",
    "\n",
    "from omop_alchemy.tables.clinical import Person, Condition_Occurrence, Measurement\n"
   ]
  },
  {
   "cell_type": "code",
   "execution_count": 3,
   "metadata": {},
   "outputs": [
    {
     "name": "stdout",
     "output_type": "stream",
     "text": [
      "2024-02-07 09:54:11,218 INFO sqlalchemy.engine.Engine BEGIN (implicit)\n",
      "2024-02-07 09:54:11,223 INFO sqlalchemy.engine.Engine SELECT modifiable_table.modifier_id AS modifiable_table_modifier_id, modifiable_table.modifier_of_field_concept_id AS modifiable_table_modifier_of_field_concept_id, CASE WHEN (modifiable_table.modifier_of_field_concept_id = ?) THEN ? WHEN (modifiable_table.modifier_of_field_concept_id = ?) THEN ? ELSE ? END AS _sa_polymorphic_on, condition_occurrence.condition_occurrence_id AS condition_occurrence_condition_occurrence_id, condition_occurrence.condition_start_date AS condition_occurrence_condition_start_date, condition_occurrence.condition_start_datetime AS condition_occurrence_condition_start_datetime, condition_occurrence.condition_end_date AS condition_occurrence_condition_end_date, condition_occurrence.condition_end_datetime AS condition_occurrence_condition_end_datetime, condition_occurrence.stop_reason AS condition_occurrence_stop_reason, condition_occurrence.condition_source_value AS condition_occurrence_condition_source_value, condition_occurrence.condition_status_source_value AS condition_occurrence_condition_status_source_value, condition_occurrence.person_id AS condition_occurrence_person_id, condition_occurrence.provider_id AS condition_occurrence_provider_id, condition_occurrence.visit_occurrence_id AS condition_occurrence_visit_occurrence_id, condition_occurrence.visit_detail_id AS condition_occurrence_visit_detail_id, condition_occurrence.condition_concept_id AS condition_occurrence_condition_concept_id, condition_occurrence.condition_type_concept_id AS condition_occurrence_condition_type_concept_id, condition_occurrence.condition_status_concept_id AS condition_occurrence_condition_status_concept_id, condition_occurrence.condition_source_concept_id AS condition_occurrence_condition_source_concept_id \n",
      "FROM modifiable_table JOIN condition_occurrence ON condition_occurrence.condition_occurrence_id = modifiable_table.modifier_id\n",
      "2024-02-07 09:54:11,223 INFO sqlalchemy.engine.Engine [generated in 0.00085s] (1147127, 'condition', 1147082, 'procedure', 'episode')\n",
      "2024-02-07 09:54:11,230 INFO sqlalchemy.engine.Engine SELECT measurement.modifier_of_event_id AS measurement_modifier_of_event_id, measurement.measurement_id AS measurement_measurement_id, measurement.measurement_date AS measurement_measurement_date, measurement.measurement_datetime AS measurement_measurement_datetime, measurement.measurement_time AS measurement_measurement_time, measurement.measurement_source_value AS measurement_measurement_source_value, measurement.unit_source_value AS measurement_unit_source_value, measurement.value_source_value AS measurement_value_source_value, measurement.value_as_number AS measurement_value_as_number, measurement.range_low AS measurement_range_low, measurement.range_high AS measurement_range_high, measurement.person_id AS measurement_person_id, measurement.provider_id AS measurement_provider_id, measurement.visit_occurrence_id AS measurement_visit_occurrence_id, measurement.visit_detail_id AS measurement_visit_detail_id, measurement.value_as_concept_id AS measurement_value_as_concept_id, measurement.unit_concept_id AS measurement_unit_concept_id, measurement.measurement_concept_id AS measurement_measurement_concept_id, measurement.measurement_source_concept_id AS measurement_measurement_source_concept_id, measurement.measurement_type_concept_id AS measurement_measurement_type_concept_id, measurement.operator_concept_id AS measurement_operator_concept_id, measurement.modifier_of_field_concept_id AS measurement_modifier_of_field_concept_id, concept_1.concept_id AS concept_1_concept_id, concept_1.concept_name AS concept_1_concept_name, concept_1.concept_code AS concept_1_concept_code, concept_1.domain_id AS concept_1_domain_id, concept_1.vocabulary_id AS concept_1_vocabulary_id, concept_1.concept_class_id AS concept_1_concept_class_id, concept_1.standard_concept AS concept_1_standard_concept, concept_1.valid_start_date AS concept_1_valid_start_date, concept_1.valid_end_date AS concept_1_valid_end_date, concept_1.invalid_reason AS concept_1_invalid_reason \n",
      "FROM measurement LEFT OUTER JOIN concept AS concept_1 ON concept_1.concept_id = measurement.measurement_concept_id \n",
      "WHERE measurement.modifier_of_event_id IN (?, ?, ?, ?, ?)\n",
      "2024-02-07 09:54:11,231 INFO sqlalchemy.engine.Engine [generated in 0.00071s] (1, 2, 3, 4, 5)\n",
      "2024-02-07 09:54:11,233 INFO sqlalchemy.engine.Engine ROLLBACK\n"
     ]
    },
    {
     "name": "stderr",
     "output_type": "stream",
     "text": [
      "/var/folders/q5/f31pwsdj1ys3tz95nb2zdd540000gn/T/ipykernel_69327/886020892.py:2: SAWarning: relationship 'Measurement.modified_object' will copy column modifiable_table.modifier_id to column measurement.modifier_of_event_id, which conflicts with relationship(s): 'Measurement.modifying_object' (copies modifiable_table.modifier_id to measurement.modifier_of_event_id), 'Modifiable_Table.modifiers' (copies modifiable_table.modifier_id to measurement.modifier_of_event_id). If this is not the intention, consider if these relationships should be linked with back_populates, or if viewonly=True should be applied to one or more if they are read-only. For the less common case that foreign key constraints are partially overlapping, the orm.foreign() annotation can be used to isolate the columns that should be written towards.   To silence this warning, add the parameter 'overlaps=\"modifiers,modifying_object\"' to the 'Measurement.modified_object' relationship. (Background on this warning at: https://sqlalche.me/e/20/qzyx) (This warning originated from the `configure_mappers()` process, which was invoked automatically in response to a user-initiated operation.)\n",
      "  conds = sess.query(Condition_Occurrence).options(so.joinedload(Condition_Occurrence.modifiers,\n"
     ]
    }
   ],
   "source": [
    "with so.Session(engine) as sess:\n",
    "    conds = sess.query(Condition_Occurrence).options(so.joinedload(Condition_Occurrence.modifiers,\n",
    "                                                      Measurement.measurement_concept)).all()"
   ]
  },
  {
   "cell_type": "code",
   "execution_count": 4,
   "metadata": {},
   "outputs": [
    {
     "data": {
      "text/plain": [
       "[[<omop_alchemy.tables.clinical.measurement.Measurement at 0x11742e810>,\n",
       "  <omop_alchemy.tables.clinical.measurement.Measurement at 0x11742ea90>,\n",
       "  <omop_alchemy.tables.clinical.measurement.Measurement at 0x11742eb90>],\n",
       " [],\n",
       " [],\n",
       " [],\n",
       " []]"
      ]
     },
     "execution_count": 4,
     "metadata": {},
     "output_type": "execute_result"
    }
   ],
   "source": [
    "[c.modifiers for c in conds]"
   ]
  },
  {
   "cell_type": "code",
   "execution_count": null,
   "metadata": {},
   "outputs": [],
   "source": [
    "with so.Session(engine) as sess:\n",
    "    conds = sess.query(Condition_Occurrence).all()"
   ]
  },
  {
   "cell_type": "code",
   "execution_count": null,
   "metadata": {},
   "outputs": [],
   "source": [
    "conds[4].modifiers"
   ]
  },
  {
   "cell_type": "code",
   "execution_count": null,
   "metadata": {},
   "outputs": [],
   "source": [
    "with so.Session(engine) as sess:\n",
    "    people = sess.query(Person).options(so.joinedload(Person.conditions, \n",
    "                                                      Condition_Occurrence.condition_concept,\n",
    "                                                      Condition_Modifier.measurement_concept)).all()"
   ]
  },
  {
   "cell_type": "code",
   "execution_count": null,
   "metadata": {},
   "outputs": [],
   "source": []
  }
 ],
 "metadata": {
  "kernelspec": {
   "display_name": ".venv",
   "language": "python",
   "name": "python3"
  },
  "language_info": {
   "codemirror_mode": {
    "name": "ipython",
    "version": 3
   },
   "file_extension": ".py",
   "mimetype": "text/x-python",
   "name": "python",
   "nbconvert_exporter": "python",
   "pygments_lexer": "ipython3",
   "version": "3.11.0"
  }
 },
 "nbformat": 4,
 "nbformat_minor": 2
}
