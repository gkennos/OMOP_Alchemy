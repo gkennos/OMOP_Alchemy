{
 "cells": [
  {
   "cell_type": "code",
   "execution_count": 1,
   "metadata": {},
   "outputs": [],
   "source": [
    "\n",
    "import sqlalchemy.orm as so\n",
    "import sqlalchemy.sql.sqltypes as sss\n",
    "from omop_alchemy.db.config import engine, config\n",
    "from omop_alchemy.tables.clinical import Person, Condition_Occurrence, Measurement, Observation\n",
    "from omop_alchemy.conventions import gender_lookup, ethnicity_lookup, race_lookup\n"
   ]
  },
  {
   "cell_type": "code",
   "execution_count": 2,
   "metadata": {},
   "outputs": [
    {
     "name": "stdout",
     "output_type": "stream",
     "text": [
      "expected fail: yob\n"
     ]
    }
   ],
   "source": [
    "try:\n",
    "    Person(year_of_birth=10000)\n",
    "except:\n",
    "    print('expected fail: yob')"
   ]
  },
  {
   "cell_type": "code",
   "execution_count": 3,
   "metadata": {},
   "outputs": [
    {
     "name": "stdout",
     "output_type": "stream",
     "text": [
      "expected fail: mob\n"
     ]
    }
   ],
   "source": [
    "try:\n",
    "    Person(month_of_birth=13)\n",
    "except:\n",
    "    print('expected fail: mob')"
   ]
  },
  {
   "cell_type": "code",
   "execution_count": 4,
   "metadata": {},
   "outputs": [
    {
     "name": "stdout",
     "output_type": "stream",
     "text": [
      "expected fail: gender\n"
     ]
    }
   ],
   "source": [
    "try:\n",
    "    p = Person(gender_concept_id=100)\n",
    "except:\n",
    "    print('expected fail: gender')"
   ]
  },
  {
   "cell_type": "code",
   "execution_count": 5,
   "metadata": {},
   "outputs": [
    {
     "data": {
      "text/plain": [
       "(True, True, False)"
      ]
     },
     "execution_count": 5,
     "metadata": {},
     "output_type": "execute_result"
    }
   ],
   "source": [
    "'male' in gender_lookup, 8507 in gender_lookup, 'sldkfjsd' in gender_lookup"
   ]
  },
  {
   "cell_type": "code",
   "execution_count": 6,
   "metadata": {},
   "outputs": [
    {
     "name": "stdout",
     "output_type": "stream",
     "text": [
      "expected fail: race\n"
     ]
    }
   ],
   "source": [
    "try:\n",
    "    p = Person(race_concept_id=100)\n",
    "except:\n",
    "    print('expected fail: race')"
   ]
  },
  {
   "cell_type": "code",
   "execution_count": null,
   "metadata": {},
   "outputs": [],
   "source": []
  },
  {
   "cell_type": "code",
   "execution_count": null,
   "metadata": {},
   "outputs": [],
   "source": []
  }
 ],
 "metadata": {
  "kernelspec": {
   "display_name": ".venv",
   "language": "python",
   "name": "python3"
  },
  "language_info": {
   "codemirror_mode": {
    "name": "ipython",
    "version": 3
   },
   "file_extension": ".py",
   "mimetype": "text/x-python",
   "name": "python",
   "nbconvert_exporter": "python",
   "pygments_lexer": "ipython3",
   "version": "3.11.0"
  }
 },
 "nbformat": 4,
 "nbformat_minor": 2
}
